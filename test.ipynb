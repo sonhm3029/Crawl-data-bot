{
 "cells": [
  {
   "cell_type": "code",
   "execution_count": 2,
   "metadata": {},
   "outputs": [
    {
     "name": "stdout",
     "output_type": "stream",
     "text": [
      "Exist crawl data from url https://www.vinmec.com/vi/tin-tuc/thong-tin-suc-khoe/nhi/cha-me-don-cac-huong-dan-khi-nuoi-con-1-minh/\n"
     ]
    }
   ],
   "source": [
    "from utils.base_crawl import TextCrawlBase\n",
    "\n",
    "\n",
    "crawler = TextCrawlBase()\n",
    "\n",
    "\n",
    "crawler.craw(source=\"https://www.vinmec.com/vi/tin-tuc/thong-tin-suc-khoe/nhi/cha-me-don-cac-huong-dan-khi-nuoi-con-1-minh/\")"
   ]
  }
 ],
 "metadata": {
  "kernelspec": {
   "display_name": "crawl_bot",
   "language": "python",
   "name": "python3"
  },
  "language_info": {
   "codemirror_mode": {
    "name": "ipython",
    "version": 3
   },
   "file_extension": ".py",
   "mimetype": "text/x-python",
   "name": "python",
   "nbconvert_exporter": "python",
   "pygments_lexer": "ipython3",
   "version": "3.9.13"
  }
 },
 "nbformat": 4,
 "nbformat_minor": 2
}
